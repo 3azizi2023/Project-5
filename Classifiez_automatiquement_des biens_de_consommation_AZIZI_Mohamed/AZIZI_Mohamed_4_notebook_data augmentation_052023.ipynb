{
 "cells": [
  {
   "cell_type": "markdown",
   "metadata": {},
   "source": [
    "# Projet 6 :\n",
    "\n",
    "# Data augmentation\n",
    "\n",
    "### Chargement des bibliothèques et des données"
   ]
  },
  {
   "cell_type": "code",
   "execution_count": 1,
   "metadata": {
    "id": "FZiIrVNlDUfU"
   },
   "outputs": [
    {
     "name": "stderr",
     "output_type": "stream",
     "text": [
      "2023-06-24 23:54:02.189673: I tensorflow/core/platform/cpu_feature_guard.cc:182] This TensorFlow binary is optimized to use available CPU instructions in performance-critical operations.\n",
      "To enable the following instructions: AVX2 FMA, in other operations, rebuild TensorFlow with the appropriate compiler flags.\n"
     ]
    }
   ],
   "source": [
    "import pandas as pd\n",
    "import numpy as np\n",
    "import matplotlib.pyplot as plt\n",
    "import seaborn as sns\n",
    "import os\n",
    "from sklearn.model_selection import train_test_split\n",
    "from sklearn.metrics import accuracy_score, auc, roc_auc_score, roc_curve\n",
    "import tensorflow as tf\n",
    "from tensorflow.keras.models import Model, Sequential\n",
    "from tensorflow.keras.layers import GlobalAveragePooling2D, GlobalAveragePooling1D, Flatten, Dense, Dropout \n",
    "from tensorflow.keras.layers import Rescaling, RandomFlip, RandomRotation, RandomZoom\n",
    "from tensorflow.keras.callbacks import EarlyStopping, ModelCheckpoint\n",
    "from tensorflow.keras.applications.vgg16 import VGG16\n",
    "from tensorflow.keras.applications.vgg16 import preprocess_input\n",
    "from tensorflow.keras.preprocessing.image import load_img, img_to_array\n",
    "from tensorflow.keras.utils import to_categorical"
   ]
  },
  {
   "cell_type": "code",
   "execution_count": 2,
   "metadata": {
    "colab": {
     "base_uri": "https://localhost:8080/",
     "height": 424
    },
    "id": "jzEqhfEXQHsD",
    "outputId": "c3a72a7c-8716-4d11-8a6f-5bba83c4fd38"
   },
   "outputs": [
    {
     "data": {
      "text/html": [
       "<div>\n",
       "<style scoped>\n",
       "    .dataframe tbody tr th:only-of-type {\n",
       "        vertical-align: middle;\n",
       "    }\n",
       "\n",
       "    .dataframe tbody tr th {\n",
       "        vertical-align: top;\n",
       "    }\n",
       "\n",
       "    .dataframe thead th {\n",
       "        text-align: right;\n",
       "    }\n",
       "</style>\n",
       "<table border=\"1\" class=\"dataframe\">\n",
       "  <thead>\n",
       "    <tr style=\"text-align: right;\">\n",
       "      <th></th>\n",
       "      <th>ImagePath</th>\n",
       "      <th>categorie</th>\n",
       "      <th>label</th>\n",
       "    </tr>\n",
       "  </thead>\n",
       "  <tbody>\n",
       "    <tr>\n",
       "      <th>0</th>\n",
       "      <td>/Users/azizi/Desktop/Flipkart/Images/55b85ea15...</td>\n",
       "      <td>Home Furnishing</td>\n",
       "      <td>4</td>\n",
       "    </tr>\n",
       "    <tr>\n",
       "      <th>1</th>\n",
       "      <td>/Users/azizi/Desktop/Flipkart/Images/7b72c92c2...</td>\n",
       "      <td>Baby Care</td>\n",
       "      <td>0</td>\n",
       "    </tr>\n",
       "    <tr>\n",
       "      <th>2</th>\n",
       "      <td>/Users/azizi/Desktop/Flipkart/Images/64d5d4a25...</td>\n",
       "      <td>Baby Care</td>\n",
       "      <td>0</td>\n",
       "    </tr>\n",
       "    <tr>\n",
       "      <th>3</th>\n",
       "      <td>/Users/azizi/Desktop/Flipkart/Images/d4684dcdc...</td>\n",
       "      <td>Home Furnishing</td>\n",
       "      <td>4</td>\n",
       "    </tr>\n",
       "    <tr>\n",
       "      <th>4</th>\n",
       "      <td>/Users/azizi/Desktop/Flipkart/Images/6325b6870...</td>\n",
       "      <td>Home Furnishing</td>\n",
       "      <td>4</td>\n",
       "    </tr>\n",
       "    <tr>\n",
       "      <th>...</th>\n",
       "      <td>...</td>\n",
       "      <td>...</td>\n",
       "      <td>...</td>\n",
       "    </tr>\n",
       "    <tr>\n",
       "      <th>1045</th>\n",
       "      <td>/Users/azizi/Desktop/Flipkart/Images/958f54f4c...</td>\n",
       "      <td>Baby Care</td>\n",
       "      <td>0</td>\n",
       "    </tr>\n",
       "    <tr>\n",
       "      <th>1046</th>\n",
       "      <td>/Users/azizi/Desktop/Flipkart/Images/fd6cbcc22...</td>\n",
       "      <td>Baby Care</td>\n",
       "      <td>0</td>\n",
       "    </tr>\n",
       "    <tr>\n",
       "      <th>1047</th>\n",
       "      <td>/Users/azizi/Desktop/Flipkart/Images/5912e037d...</td>\n",
       "      <td>Baby Care</td>\n",
       "      <td>0</td>\n",
       "    </tr>\n",
       "    <tr>\n",
       "      <th>1048</th>\n",
       "      <td>/Users/azizi/Desktop/Flipkart/Images/c3edc504d...</td>\n",
       "      <td>Baby Care</td>\n",
       "      <td>0</td>\n",
       "    </tr>\n",
       "    <tr>\n",
       "      <th>1049</th>\n",
       "      <td>/Users/azizi/Desktop/Flipkart/Images/f2f027ad6...</td>\n",
       "      <td>Baby Care</td>\n",
       "      <td>0</td>\n",
       "    </tr>\n",
       "  </tbody>\n",
       "</table>\n",
       "<p>1050 rows × 3 columns</p>\n",
       "</div>"
      ],
      "text/plain": [
       "                                              ImagePath         categorie  \\\n",
       "0     /Users/azizi/Desktop/Flipkart/Images/55b85ea15...  Home Furnishing    \n",
       "1     /Users/azizi/Desktop/Flipkart/Images/7b72c92c2...        Baby Care    \n",
       "2     /Users/azizi/Desktop/Flipkart/Images/64d5d4a25...        Baby Care    \n",
       "3     /Users/azizi/Desktop/Flipkart/Images/d4684dcdc...  Home Furnishing    \n",
       "4     /Users/azizi/Desktop/Flipkart/Images/6325b6870...  Home Furnishing    \n",
       "...                                                 ...               ...   \n",
       "1045  /Users/azizi/Desktop/Flipkart/Images/958f54f4c...        Baby Care    \n",
       "1046  /Users/azizi/Desktop/Flipkart/Images/fd6cbcc22...        Baby Care    \n",
       "1047  /Users/azizi/Desktop/Flipkart/Images/5912e037d...        Baby Care    \n",
       "1048  /Users/azizi/Desktop/Flipkart/Images/c3edc504d...        Baby Care    \n",
       "1049  /Users/azizi/Desktop/Flipkart/Images/f2f027ad6...        Baby Care    \n",
       "\n",
       "      label  \n",
       "0         4  \n",
       "1         0  \n",
       "2         0  \n",
       "3         4  \n",
       "4         4  \n",
       "...     ...  \n",
       "1045      0  \n",
       "1046      0  \n",
       "1047      0  \n",
       "1048      0  \n",
       "1049      0  \n",
       "\n",
       "[1050 rows x 3 columns]"
      ]
     },
     "execution_count": 2,
     "metadata": {},
     "output_type": "execute_result"
    }
   ],
   "source": [
    "# Chargement des données df\n",
    "image_df = pd.read_csv('image_df.csv')\n",
    "image_df"
   ]
  },
  {
   "cell_type": "code",
   "execution_count": 3,
   "metadata": {
    "id": "ttzwEjFRJxxI"
   },
   "outputs": [],
   "source": [
    "import tensorflow as tf\n",
    "from tensorflow.keras.applications import VGG16\n",
    "from tensorflow.keras.preprocessing.image import ImageDataGenerator\n",
    "from tensorflow.keras import models\n",
    "from tensorflow.keras import layers\n",
    "from tensorflow.keras import optimizers\n",
    "\n",
    "def create_model():\n",
    "    # Charger le modèle pré-entraîné VGG16 sans les couches supérieures (entièrement connectées)\n",
    "    base_model = VGG16(weights='imagenet', include_top=False, input_shape=(224, 224, 3))\n",
    "\n",
    "    # Geler les couches du modèle de base pour empêcher leur entraînement\n",
    "    for layer in base_model.layers:\n",
    "        layer.trainable = False\n",
    "\n",
    "    # Créer un nouveau modèle séquentiel au-dessus du modèle de base\n",
    "    model = models.Sequential()\n",
    "\n",
    "    # Ajouter le modèle de base VGG16\n",
    "    model.add(base_model)\n",
    "\n",
    "    # Aplatir les sorties en un vecteur 1D\n",
    "    model.add(layers.Flatten())\n",
    "\n",
    "    # Ajouter une couche Dense avec 512 neurones et activation ReLU\n",
    "    model.add(layers.Dense(512, activation='relu'))\n",
    "\n",
    "    # Appliquer la régularisation Dropout avec un taux de 0.5\n",
    "    model.add(layers.Dropout(0.5))\n",
    "\n",
    "    # Ajouter une autre couche Dense avec 256 neurones et activation ReLU\n",
    "    model.add(layers.Dense(256, activation='relu'))\n",
    "\n",
    "    # Appliquer à nouveau la régularisation Dropout avec un taux de 0.5\n",
    "    model.add(layers.Dropout(0.5))\n",
    "\n",
    "    # Ajouter la couche de sortie Dense avec 7 neurones pour la classification (activation softmax)\n",
    "    model.add(layers.Dense(7, activation='softmax')) \n",
    "\n",
    "    # Compiler le modèle avec l'optimiseur RMSprop, une faible valeur d'apprentissage (lr=1e-3), \n",
    "    # la fonction de perte categorical_crossentropy et la métrique d'évaluation accuracy\n",
    "    model.compile(optimizer=optimizers.RMSprop(lr=1e-3),\n",
    "                  loss='categorical_crossentropy',\n",
    "                  metrics=['accuracy'])\n",
    "\n",
    "    # Afficher un résumé détaillé du modèle, montrant l'architecture et le nombre de paramètres entraînables\n",
    "    model.summary()\n",
    "\n",
    "    return model\n"
   ]
  },
  {
   "cell_type": "code",
   "execution_count": 4,
   "metadata": {
    "id": "hA1_hZHRLIPi"
   },
   "outputs": [],
   "source": [
    "from sklearn.model_selection import train_test_split\n",
    "\n",
    "from sklearn.model_selection import train_test_split\n",
    "\n",
    "# Diviser les données en ensembles d'entraînement, de validation et de test\n",
    "train_df, val_test_df = train_test_split(image_df, test_size=0.2, random_state=42, shuffle=True)\n",
    "val_df, test_df = train_test_split(val_test_df, test_size=0.5, random_state=42, shuffle=True)"
   ]
  },
  {
   "cell_type": "code",
   "execution_count": 5,
   "metadata": {
    "colab": {
     "base_uri": "https://localhost:8080/",
     "height": 206
    },
    "id": "yUhJftPALRy-",
    "outputId": "77046a82-290a-47cb-f86c-947c2c251e90"
   },
   "outputs": [
    {
     "data": {
      "text/html": [
       "<div>\n",
       "<style scoped>\n",
       "    .dataframe tbody tr th:only-of-type {\n",
       "        vertical-align: middle;\n",
       "    }\n",
       "\n",
       "    .dataframe tbody tr th {\n",
       "        vertical-align: top;\n",
       "    }\n",
       "\n",
       "    .dataframe thead th {\n",
       "        text-align: right;\n",
       "    }\n",
       "</style>\n",
       "<table border=\"1\" class=\"dataframe\">\n",
       "  <thead>\n",
       "    <tr style=\"text-align: right;\">\n",
       "      <th></th>\n",
       "      <th>ImagePath</th>\n",
       "      <th>categorie</th>\n",
       "      <th>label</th>\n",
       "    </tr>\n",
       "  </thead>\n",
       "  <tbody>\n",
       "    <tr>\n",
       "      <th>554</th>\n",
       "      <td>/Users/azizi/Desktop/Flipkart/Images/b144a363c...</td>\n",
       "      <td>Watches</td>\n",
       "      <td>6</td>\n",
       "    </tr>\n",
       "    <tr>\n",
       "      <th>1012</th>\n",
       "      <td>/Users/azizi/Desktop/Flipkart/Images/29def171d...</td>\n",
       "      <td>Home Decor &amp; Festive Needs</td>\n",
       "      <td>3</td>\n",
       "    </tr>\n",
       "    <tr>\n",
       "      <th>481</th>\n",
       "      <td>/Users/azizi/Desktop/Flipkart/Images/9f9bb0ef3...</td>\n",
       "      <td>Computers</td>\n",
       "      <td>2</td>\n",
       "    </tr>\n",
       "    <tr>\n",
       "      <th>432</th>\n",
       "      <td>/Users/azizi/Desktop/Flipkart/Images/7f2f1f303...</td>\n",
       "      <td>Computers</td>\n",
       "      <td>2</td>\n",
       "    </tr>\n",
       "    <tr>\n",
       "      <th>626</th>\n",
       "      <td>/Users/azizi/Desktop/Flipkart/Images/73901494e...</td>\n",
       "      <td>Home Furnishing</td>\n",
       "      <td>4</td>\n",
       "    </tr>\n",
       "  </tbody>\n",
       "</table>\n",
       "</div>"
      ],
      "text/plain": [
       "                                              ImagePath  \\\n",
       "554   /Users/azizi/Desktop/Flipkart/Images/b144a363c...   \n",
       "1012  /Users/azizi/Desktop/Flipkart/Images/29def171d...   \n",
       "481   /Users/azizi/Desktop/Flipkart/Images/9f9bb0ef3...   \n",
       "432   /Users/azizi/Desktop/Flipkart/Images/7f2f1f303...   \n",
       "626   /Users/azizi/Desktop/Flipkart/Images/73901494e...   \n",
       "\n",
       "                        categorie  label  \n",
       "554                      Watches       6  \n",
       "1012  Home Decor & Festive Needs       3  \n",
       "481                    Computers       2  \n",
       "432                    Computers       2  \n",
       "626              Home Furnishing       4  "
      ]
     },
     "execution_count": 5,
     "metadata": {},
     "output_type": "execute_result"
    }
   ],
   "source": [
    "train_df.head()"
   ]
  },
  {
   "cell_type": "code",
   "execution_count": 6,
   "metadata": {
    "colab": {
     "base_uri": "https://localhost:8080/"
    },
    "id": "OXt08N5-LU57",
    "outputId": "8c5282c3-0380-490f-f1ef-d8963e40e54c"
   },
   "outputs": [
    {
     "data": {
      "text/plain": [
       "(105, 3)"
      ]
     },
     "execution_count": 6,
     "metadata": {},
     "output_type": "execute_result"
    }
   ],
   "source": [
    "val_df.shape"
   ]
  },
  {
   "cell_type": "code",
   "execution_count": 7,
   "metadata": {
    "colab": {
     "base_uri": "https://localhost:8080/"
    },
    "id": "S4U3qS1oLXOJ",
    "outputId": "f7feed2f-ecbb-412a-b79e-67dc13706bc2"
   },
   "outputs": [
    {
     "data": {
      "text/plain": [
       "(105, 3)"
      ]
     },
     "execution_count": 7,
     "metadata": {},
     "output_type": "execute_result"
    }
   ],
   "source": [
    "test_df.shape"
   ]
  },
  {
   "cell_type": "code",
   "execution_count": 8,
   "metadata": {
    "colab": {
     "base_uri": "https://localhost:8080/"
    },
    "id": "RnoHRQE6KV0e",
    "outputId": "9cebc6fa-9f3e-4f0d-8ce4-a5dac2295a1d"
   },
   "outputs": [],
   "source": [
    "# Set up data augmentation using ImageDataGenerator\n",
    "train_datagen = ImageDataGenerator(rotation_range=20,\n",
    "                                   width_shift_range=0.2,\n",
    "                                   height_shift_range=0.2,\n",
    "                                   horizontal_flip=True,\n",
    "                                   validation_split=0.25,\n",
    "                                   preprocessing_function=preprocess_input)\n",
    "\n",
    "#ImageDataGenerator(rescale=1./255,\n",
    "                              #     rotation_range=40,\n",
    "                               #    width_shift_range=0.2,\n",
    "                                #   height_shift_range=0.2,\n",
    "                                 #  shear_range=0.2,\n",
    "                                  # zoom_range=0.2,\n",
    "                                   #horizontal_flip=True,\n",
    "                                   #fill_mode='nearest')\n",
    "\n",
    "validation_datagen = ImageDataGenerator(\n",
    "    validation_split=0,\n",
    "    preprocessing_function=preprocess_input)#rescale=1./255)\n"
   ]
  },
  {
   "cell_type": "code",
   "execution_count": 9,
   "metadata": {
    "colab": {
     "base_uri": "https://localhost:8080/"
    },
    "id": "6e2WjlDQKOep",
    "outputId": "ea4930a3-088c-48ac-b947-3bcfb5863ab3"
   },
   "outputs": [
    {
     "name": "stdout",
     "output_type": "stream",
     "text": [
      "Found 840 validated image filenames belonging to 7 classes.\n",
      "Found 105 validated image filenames belonging to 7 classes.\n"
     ]
    }
   ],
   "source": [
    "# Create generators from the DataFrames\n",
    "train_generator = train_datagen.flow_from_dataframe(\n",
    "        dataframe=train_df,\n",
    "        x_col='ImagePath',\n",
    "        y_col='categorie',\n",
    "        target_size=(224, 224),\n",
    "        batch_size=32,\n",
    "        class_mode='categorical')\n",
    "\n",
    "val_generator = validation_datagen.flow_from_dataframe(\n",
    "        dataframe=val_df,\n",
    "        x_col='ImagePath',\n",
    "        y_col='categorie',\n",
    "        target_size=(224, 224),\n",
    "        batch_size=32,\n",
    "        class_mode='categorical')"
   ]
  },
  {
   "cell_type": "code",
   "execution_count": 10,
   "metadata": {},
   "outputs": [
    {
     "name": "stderr",
     "output_type": "stream",
     "text": [
      "WARNING:absl:`lr` is deprecated in Keras optimizer, please use `learning_rate` or use the legacy optimizer, e.g.,tf.keras.optimizers.legacy.RMSprop.\n"
     ]
    },
    {
     "name": "stdout",
     "output_type": "stream",
     "text": [
      "Model: \"sequential\"\n",
      "_________________________________________________________________\n",
      " Layer (type)                Output Shape              Param #   \n",
      "=================================================================\n",
      " vgg16 (Functional)          (None, 7, 7, 512)         14714688  \n",
      "                                                                 \n",
      " flatten (Flatten)           (None, 25088)             0         \n",
      "                                                                 \n",
      " dense (Dense)               (None, 512)               12845568  \n",
      "                                                                 \n",
      " dropout (Dropout)           (None, 512)               0         \n",
      "                                                                 \n",
      " dense_1 (Dense)             (None, 256)               131328    \n",
      "                                                                 \n",
      " dropout_1 (Dropout)         (None, 256)               0         \n",
      "                                                                 \n",
      " dense_2 (Dense)             (None, 7)                 1799      \n",
      "                                                                 \n",
      "=================================================================\n",
      "Total params: 27,693,383\n",
      "Trainable params: 12,978,695\n",
      "Non-trainable params: 14,714,688\n",
      "_________________________________________________________________\n"
     ]
    }
   ],
   "source": [
    "# Création du modèle\n",
    "with tf.device('/gpu:0'): \n",
    "    model = create_model()\n",
    "\n",
    "# Création du callback\n",
    "model_save_path = \"./model_best_weights.h5\"\n",
    "checkpoint = ModelCheckpoint(model_save_path, monitor='val_loss', verbose=1, save_best_only=True, mode='min')\n",
    "es = EarlyStopping(monitor='val_loss', mode='min', verbose=1, patience=5)\n",
    "callbacks_list = [checkpoint, es]\n"
   ]
  },
  {
   "cell_type": "markdown",
   "metadata": {},
   "source": [
    "## Optimisation des hyperparamètres "
   ]
  },
  {
   "cell_type": "code",
   "execution_count": 11,
   "metadata": {},
   "outputs": [
    {
     "name": "stdout",
     "output_type": "stream",
     "text": [
      "Epoch 1/50\n"
     ]
    },
    {
     "name": "stderr",
     "output_type": "stream",
     "text": [
      "2023-06-24 23:54:12.291623: I tensorflow/core/common_runtime/executor.cc:1197] [/device:CPU:0] (DEBUG INFO) Executor start aborting (this does not indicate an error and you can ignore this message): INVALID_ARGUMENT: You must feed a value for placeholder tensor 'Placeholder/_0' with dtype int32\n",
      "\t [[{{node Placeholder/_0}}]]\n"
     ]
    },
    {
     "name": "stdout",
     "output_type": "stream",
     "text": [
      "26/26 [==============================] - ETA: 0s - loss: 37.3690 - accuracy: 0.4158"
     ]
    },
    {
     "name": "stderr",
     "output_type": "stream",
     "text": [
      "2023-06-24 23:58:24.544894: I tensorflow/core/common_runtime/executor.cc:1197] [/device:CPU:0] (DEBUG INFO) Executor start aborting (this does not indicate an error and you can ignore this message): INVALID_ARGUMENT: You must feed a value for placeholder tensor 'Placeholder/_0' with dtype int32\n",
      "\t [[{{node Placeholder/_0}}]]\n"
     ]
    },
    {
     "name": "stdout",
     "output_type": "stream",
     "text": [
      "26/26 [==============================] - 285s 11s/step - loss: 37.3690 - accuracy: 0.4158 - val_loss: 5.0471 - val_accuracy: 0.7812\n",
      "Epoch 2/50\n",
      "26/26 [==============================] - 279s 11s/step - loss: 13.7202 - accuracy: 0.5730 - val_loss: 4.8688 - val_accuracy: 0.7500\n",
      "Epoch 3/50\n",
      "26/26 [==============================] - 275s 11s/step - loss: 11.3951 - accuracy: 0.5842 - val_loss: 5.1966 - val_accuracy: 0.7396\n",
      "Epoch 4/50\n",
      "26/26 [==============================] - 276s 11s/step - loss: 9.1593 - accuracy: 0.6436 - val_loss: 4.6340 - val_accuracy: 0.8125\n",
      "Epoch 5/50\n",
      "26/26 [==============================] - 275s 11s/step - loss: 6.5698 - accuracy: 0.6881 - val_loss: 3.4878 - val_accuracy: 0.7812\n",
      "Epoch 6/50\n",
      "26/26 [==============================] - 276s 11s/step - loss: 7.0819 - accuracy: 0.6720 - val_loss: 3.4103 - val_accuracy: 0.8333\n",
      "Epoch 7/50\n",
      "26/26 [==============================] - 274s 11s/step - loss: 5.3473 - accuracy: 0.7265 - val_loss: 3.9030 - val_accuracy: 0.7604\n",
      "Epoch 8/50\n",
      "26/26 [==============================] - 274s 11s/step - loss: 6.1324 - accuracy: 0.7351 - val_loss: 2.4071 - val_accuracy: 0.7812\n",
      "Epoch 9/50\n",
      "26/26 [==============================] - 271s 10s/step - loss: 5.0924 - accuracy: 0.7215 - val_loss: 3.8092 - val_accuracy: 0.8229\n",
      "Epoch 10/50\n",
      "26/26 [==============================] - 273s 10s/step - loss: 5.5405 - accuracy: 0.7141 - val_loss: 2.4784 - val_accuracy: 0.8646\n",
      "Epoch 11/50\n",
      "26/26 [==============================] - 279s 11s/step - loss: 4.2108 - accuracy: 0.7537 - val_loss: 2.9042 - val_accuracy: 0.8125\n",
      "Epoch 12/50\n",
      "26/26 [==============================] - 277s 11s/step - loss: 4.0986 - accuracy: 0.7587 - val_loss: 2.7901 - val_accuracy: 0.8021\n",
      "Epoch 13/50\n",
      "26/26 [==============================] - 275s 11s/step - loss: 3.9555 - accuracy: 0.7735 - val_loss: 3.0809 - val_accuracy: 0.8333\n",
      "Epoch 14/50\n",
      "26/26 [==============================] - 282s 11s/step - loss: 3.7811 - accuracy: 0.7644 - val_loss: 2.8857 - val_accuracy: 0.8229\n",
      "Epoch 15/50\n",
      "26/26 [==============================] - 276s 11s/step - loss: 3.2962 - accuracy: 0.7822 - val_loss: 2.4883 - val_accuracy: 0.7917\n",
      "Epoch 16/50\n",
      "26/26 [==============================] - 275s 11s/step - loss: 2.7223 - accuracy: 0.7735 - val_loss: 2.0043 - val_accuracy: 0.8229\n",
      "Epoch 17/50\n",
      "26/26 [==============================] - 274s 11s/step - loss: 2.7534 - accuracy: 0.7970 - val_loss: 2.0082 - val_accuracy: 0.8542\n",
      "Epoch 18/50\n",
      "26/26 [==============================] - 274s 11s/step - loss: 2.7360 - accuracy: 0.8045 - val_loss: 1.8968 - val_accuracy: 0.8438\n",
      "Epoch 19/50\n",
      "26/26 [==============================] - 278s 11s/step - loss: 2.7575 - accuracy: 0.7748 - val_loss: 2.0820 - val_accuracy: 0.8333\n",
      "Epoch 20/50\n",
      "26/26 [==============================] - 283s 11s/step - loss: 2.2378 - accuracy: 0.8131 - val_loss: 2.2214 - val_accuracy: 0.8125\n",
      "Epoch 21/50\n",
      "26/26 [==============================] - 272s 10s/step - loss: 2.1013 - accuracy: 0.8119 - val_loss: 2.2792 - val_accuracy: 0.8229\n",
      "Epoch 22/50\n",
      "26/26 [==============================] - 270s 11s/step - loss: 1.9823 - accuracy: 0.8205 - val_loss: 1.6478 - val_accuracy: 0.8542\n",
      "Epoch 23/50\n",
      "26/26 [==============================] - 268s 10s/step - loss: 1.9507 - accuracy: 0.8168 - val_loss: 1.8747 - val_accuracy: 0.8333\n",
      "Epoch 24/50\n",
      "26/26 [==============================] - 268s 10s/step - loss: 1.8935 - accuracy: 0.8082 - val_loss: 1.8074 - val_accuracy: 0.8229\n",
      "Epoch 25/50\n",
      "26/26 [==============================] - 267s 10s/step - loss: 1.8249 - accuracy: 0.8304 - val_loss: 1.8721 - val_accuracy: 0.8438\n",
      "Epoch 26/50\n",
      "26/26 [==============================] - 269s 10s/step - loss: 1.3923 - accuracy: 0.8243 - val_loss: 2.4492 - val_accuracy: 0.8125\n",
      "Epoch 27/50\n",
      "26/26 [==============================] - 266s 10s/step - loss: 1.4967 - accuracy: 0.8342 - val_loss: 1.7243 - val_accuracy: 0.8229\n",
      "Epoch 28/50\n",
      "26/26 [==============================] - 268s 10s/step - loss: 1.6484 - accuracy: 0.8428 - val_loss: 1.5008 - val_accuracy: 0.8438\n",
      "Epoch 29/50\n",
      "26/26 [==============================] - 267s 10s/step - loss: 1.2945 - accuracy: 0.8614 - val_loss: 1.8257 - val_accuracy: 0.8229\n",
      "Epoch 30/50\n",
      "26/26 [==============================] - 266s 10s/step - loss: 1.6669 - accuracy: 0.8490 - val_loss: 1.8870 - val_accuracy: 0.8542\n",
      "Epoch 31/50\n",
      "26/26 [==============================] - 267s 10s/step - loss: 1.4587 - accuracy: 0.8441 - val_loss: 2.3313 - val_accuracy: 0.8438\n",
      "Epoch 32/50\n",
      "26/26 [==============================] - 267s 10s/step - loss: 1.1577 - accuracy: 0.8713 - val_loss: 2.5872 - val_accuracy: 0.8021\n",
      "Epoch 33/50\n",
      "26/26 [==============================] - 266s 10s/step - loss: 1.1540 - accuracy: 0.8639 - val_loss: 2.1238 - val_accuracy: 0.8333\n",
      "Epoch 34/50\n",
      "26/26 [==============================] - 266s 10s/step - loss: 1.2518 - accuracy: 0.8626 - val_loss: 0.8455 - val_accuracy: 0.8750\n",
      "Epoch 35/50\n",
      "26/26 [==============================] - 267s 10s/step - loss: 1.2546 - accuracy: 0.8527 - val_loss: 1.4715 - val_accuracy: 0.8542\n",
      "Epoch 36/50\n",
      "26/26 [==============================] - 266s 10s/step - loss: 1.2887 - accuracy: 0.8527 - val_loss: 1.9588 - val_accuracy: 0.8542\n",
      "Epoch 37/50\n",
      "26/26 [==============================] - 266s 10s/step - loss: 1.1351 - accuracy: 0.8899 - val_loss: 1.8154 - val_accuracy: 0.8646\n",
      "Epoch 38/50\n",
      "26/26 [==============================] - 266s 10s/step - loss: 0.9276 - accuracy: 0.8750 - val_loss: 2.0479 - val_accuracy: 0.8438\n",
      "Epoch 39/50\n",
      "26/26 [==============================] - 267s 10s/step - loss: 1.2591 - accuracy: 0.8725 - val_loss: 1.5933 - val_accuracy: 0.8438\n",
      "Epoch 40/50\n",
      "26/26 [==============================] - 273s 10s/step - loss: 0.9487 - accuracy: 0.8726 - val_loss: 1.7047 - val_accuracy: 0.8333\n",
      "Epoch 41/50\n",
      "26/26 [==============================] - 265s 10s/step - loss: 1.1295 - accuracy: 0.8837 - val_loss: 1.4160 - val_accuracy: 0.8438\n",
      "Epoch 42/50\n",
      "26/26 [==============================] - 266s 10s/step - loss: 1.0015 - accuracy: 0.8738 - val_loss: 1.5869 - val_accuracy: 0.8125\n",
      "Epoch 43/50\n",
      "26/26 [==============================] - 268s 10s/step - loss: 1.0249 - accuracy: 0.8762 - val_loss: 1.9573 - val_accuracy: 0.8542\n",
      "Epoch 44/50\n",
      "26/26 [==============================] - 266s 10s/step - loss: 1.0122 - accuracy: 0.8998 - val_loss: 1.0691 - val_accuracy: 0.8646\n",
      "Epoch 45/50\n",
      "26/26 [==============================] - 266s 10s/step - loss: 0.7724 - accuracy: 0.8874 - val_loss: 1.2997 - val_accuracy: 0.8750\n",
      "Epoch 46/50\n",
      "26/26 [==============================] - 266s 10s/step - loss: 0.6983 - accuracy: 0.8936 - val_loss: 1.8107 - val_accuracy: 0.8750\n",
      "Epoch 47/50\n",
      "26/26 [==============================] - 272s 10s/step - loss: 0.8567 - accuracy: 0.9038 - val_loss: 1.1794 - val_accuracy: 0.8646\n",
      "Epoch 48/50\n",
      "26/26 [==============================] - 265s 10s/step - loss: 0.9126 - accuracy: 0.8738 - val_loss: 1.4114 - val_accuracy: 0.8333\n",
      "Epoch 49/50\n",
      "26/26 [==============================] - 265s 10s/step - loss: 0.7557 - accuracy: 0.8886 - val_loss: 1.4785 - val_accuracy: 0.8438\n",
      "Epoch 50/50\n",
      "26/26 [==============================] - 265s 10s/step - loss: 0.7946 - accuracy: 0.8775 - val_loss: 0.8468 - val_accuracy: 0.8646\n"
     ]
    }
   ],
   "source": [
    "with tf.device('/gpu:0'):\n",
    "    history = history = model.fit(\n",
    "        train_generator,\n",
    "        steps_per_epoch=train_generator.samples // 32,\n",
    "        epochs=50,\n",
    "        validation_data=val_generator,\n",
    "        validation_steps=val_generator.samples // 32, verbose=1)"
   ]
  },
  {
   "cell_type": "code",
   "execution_count": 12,
   "metadata": {},
   "outputs": [
    {
     "data": {
      "image/png": "[encoded data removed]",
      "text/plain": [
       "<Figure size 1000x500 with 2 Axes>"
      ]
     },
     "metadata": {},
     "output_type": "display_data"
    }
   ],
   "source": [
    "from plot_keras_history import show_history, plot_history\n",
    "import matplotlib.pyplot as plt\n",
    "\n",
    "show_history(history)\n",
    "plot_history(history, path=\"standard.png\")\n",
    "plt.close()"
   ]
  }
 ],
 "metadata": {
  "accelerator": "GPU",
  "colab": {
   "gpuType": "T4",
   "provenance": []
  },
  "kernelspec": {
   "display_name": "Python 3 (ipykernel)",
   "language": "python",
   "name": "python3"
  },
  "language_info": {
   "codemirror_mode": {
    "name": "ipython",
    "version": 3
   },
   "file_extension": ".py",
   "mimetype": "text/x-python",
   "name": "python",
   "nbconvert_exporter": "python",
   "pygments_lexer": "ipython3",
   "version": "3.9.13"
  }
 },
 "nbformat": 4,
 "nbformat_minor": 1
}
